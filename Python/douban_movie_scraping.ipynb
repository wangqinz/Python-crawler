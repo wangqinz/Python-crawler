{
 "cells": [
  {
   "cell_type": "code",
   "execution_count": 202,
   "metadata": {},
   "outputs": [],
   "source": [
    "from urllib.request import urlopen, Request\n",
    "from bs4 import BeautifulSoup as bs\n",
    "import ssl"
   ]
  },
  {
   "cell_type": "code",
   "execution_count": 203,
   "metadata": {
    "scrolled": true
   },
   "outputs": [],
   "source": [
    "def movie_crawler(url):\n",
    "    #url = \"https://movie.douban.com/subject/26835471/\"\n",
    "    # 修改证书和应对反爬虫机制\n",
    "    ssl._create_default_https_context = ssl._create_unverified_context\n",
    "    headers = {'User-Agent': 'Mozilla/5.0 (Windows NT 10.0; Win64; x64) AppleWebKit/537.36 (KHTML, like Gecko) Chrome/67.0.3396.99 Safari/537.36'}\n",
    "\n",
    "    url1 = Request(url, headers=headers)\n",
    "    response = urlopen(url1)\n",
    "    result = response.read().decode(\"utf-8\")\n",
    "    note1 = bs(result,features=\"html.parser\")\n",
    "\n",
    "    # movie name\n",
    "    name = note1.find(\"span\",property=\"v:itemreviewed\").string.strip()\n",
    "    name_info = \"电影:\"+name\n",
    "\n",
    "    # director\n",
    "    director_list = note1.find_all(\"a\",rel=\"v:directedBy\")\n",
    "    directors = []\n",
    "    for director in director_list:\n",
    "        directors.append(director.string.strip())\n",
    "    director_info = \"导演:\"+\"/\".join(directors)\n",
    "\n",
    "    # actor\n",
    "    actor_list = note1.find_all(\"a\", rel=\"v:starring\")\n",
    "    actors = []\n",
    "    for actor in actor_list:\n",
    "        actors.append(actor.string.strip())\n",
    "    actor_info = \"演员:\"+\"/\".join(actors)    \n",
    "\n",
    "    # type\n",
    "    type_list = note1.find_all(\"span\",property=\"v:genre\")\n",
    "    types = []\n",
    "    for type_ in type_list:\n",
    "        types.append(type_.string.strip())\n",
    "\n",
    "    type_info = \"类型:\"+\"/\".join(types)\n",
    "\n",
    "    # print movie information\n",
    "    movie_info = \",\".join([name_info,director_info,actor_info,type_info])\n",
    "    return(movie_info)\n",
    "\n"
   ]
  },
  {
   "cell_type": "code",
   "execution_count": 204,
   "metadata": {},
   "outputs": [],
   "source": [
    "# get new movies \n",
    "\n",
    "ssl._create_default_https_context = ssl._create_unverified_context\n",
    "headers = {'User-Agent': 'Mozilla/5.0 (Windows NT 10.0; Win64; x64) AppleWebKit/537.36 (KHTML, like Gecko) Chrome/67.0.3396.99 Safari/537.36'}\n",
    "\n",
    "url2 = Request(\"https://movie.douban.com/\", headers=headers)\n",
    "response = urlopen(url2)\n",
    "result = response.read().decode(\"utf-8\")\n",
    "note2 = bs(result,features=\"html.parser\")\n",
    "    \n",
    "new = note2.find('ul','ui-slide-content')\n",
    "new_info = new.find_all(\"a\",attrs={\"onclick\":\"moreurl(this, {from:'mv_a_pst'})\"})\n",
    "\n",
    "list_new_movies = []\n",
    "for movie in new_info:\n",
    "    list_new_movies.append(movie[\"href\"])"
   ]
  },
  {
   "cell_type": "code",
   "execution_count": 205,
   "metadata": {},
   "outputs": [],
   "source": [
    "i = 0\n",
    "with open(\"hot_movies.txt\",\"w\") as f:\n",
    "    for movie_link in list_new_movies:\n",
    "        i +=1\n",
    "        f.write(str(i)+\". \")\n",
    "        f.write(movie_crawler(movie_link))\n",
    "        f.write(\"\\n\")\n",
    "        f.write(\"\\n\")\n",
    "        "
   ]
  },
  {
   "cell_type": "code",
   "execution_count": 206,
   "metadata": {},
   "outputs": [
    {
     "name": "stdout",
     "output_type": "stream",
     "text": [
      "1. 电影:无名狂,导演:李云波,演员:张晓晨/隋咏良/上白/刘泳希/萧传勋/赵健,类型:动作/悬疑/武侠\n",
      "\n",
      "2. 电影:奇妙王国之魔法奇缘,导演:陈设,演员:卢瑶/张洋/陈新玥,类型:动画/冒险\n",
      "\n",
      "3. 电影:我想静静,导演:张坚庭,演员:余少群/王心凌/谭佑铭/杨玉梅/胡夏/周韦彤/王李丹妮/王野/巴多/何沄伟/苑琼丹/李健仁/张达明/邵美琪/黄一山/黄一飞,类型:喜剧\n"
     ]
    }
   ],
   "source": [
    "with open(\"hot_movies.txt\",\"r+\") as f:\n",
    "    text = f.read().strip(\"\\n\")\n",
    "    print(text)"
   ]
  },
  {
   "cell_type": "code",
   "execution_count": null,
   "metadata": {},
   "outputs": [],
   "source": []
  },
  {
   "cell_type": "code",
   "execution_count": null,
   "metadata": {},
   "outputs": [],
   "source": []
  },
  {
   "cell_type": "code",
   "execution_count": null,
   "metadata": {},
   "outputs": [],
   "source": []
  }
 ],
 "metadata": {
  "kernelspec": {
   "display_name": "Python 3",
   "language": "python",
   "name": "python3"
  },
  "language_info": {
   "codemirror_mode": {
    "name": "ipython",
    "version": 3
   },
   "file_extension": ".py",
   "mimetype": "text/x-python",
   "name": "python",
   "nbconvert_exporter": "python",
   "pygments_lexer": "ipython3",
   "version": "3.7.8"
  }
 },
 "nbformat": 4,
 "nbformat_minor": 2
}
